{
 "cells": [
  {
   "cell_type": "code",
   "execution_count": 1,
   "metadata": {},
   "outputs": [],
   "source": [
    "import importlib\n",
    "import sys\n",
    "from urllib.request import urlretrieve\n",
    "\n",
    "# Imports.\n",
    "import numpy as np\n",
    "import meshcat\n",
    "from ipywidgets import interact, FloatSlider, ToggleButton\n",
    "from IPython.display import display\n",
    "\n",
    "import pydrake.all\n",
    "from pydrake.all import (AddMultibodyPlantSceneGraph, DiagramBuilder, PlanarSceneGraphVisualizer, SceneGraph, Simulator)\n",
    "from pydrake.systems.jupyter_widgets import WidgetSystem\n",
    "from pydrake.examples.pendulum import PendulumGeometry, PendulumPlant\n",
    "\n",
    "import underactuated\n",
    "from underactuated.jupyter import AdvanceToAndVisualize, SetupMatplotlibBackend, running_as_notebook\n",
    "import underactuated.meshcat_utils as mutil\n",
    "from pydrake.examples.pendulum import PendulumGeometry, PendulumPlant, PendulumInput\n",
    "from pydrake.all import Linearize, LinearQuadraticRegulator,VectorSystem\n",
    "import math\n",
    "from pydrake.all import Jacobian, MathematicalProgram, Solve, Variables, Polynomial\n",
    "import numpy as np"
   ]
  },
  {
   "cell_type": "code",
   "execution_count": 2,
   "metadata": {},
   "outputs": [
    {
     "name": "stdout",
     "output_type": "stream",
     "text": [
      "[[  25.08993933   30.47525278 -244.62531583  -92.57328217]\n",
      " [  30.47525278   54.70327322 -521.19015116 -198.74790108]\n",
      " [-244.62531583 -521.19015116 7654.55505719 2991.57725726]\n",
      " [ -92.57328217 -198.74790108 2991.57725726 1171.06897352]]\n"
     ]
    }
   ],
   "source": [
    "# LQR\n",
    "m = 1\n",
    "M = 5\n",
    "L = 2\n",
    "g = -10\n",
    "d = 1\n",
    "b = 1\n",
    "\n",
    "A = np.array([[0,1,0,0], [0,-d/M,b*m*g/M,0], [0,0,0,1], [0,-b*d/(M*L),-b*(m+M)*g/(M*L),0]])\n",
    "B = np.array([[0],[1/M], [0], [b*1/(M*L)]])\n",
    "\n",
    "Q = np.diag((10., 1. , 10., 1.))\n",
    "R = [1.]\n",
    "(K, S) = LinearQuadraticRegulator(A, B, Q, R)\n",
    "print(S)"
   ]
  },
  {
   "cell_type": "code",
   "execution_count": 3,
   "metadata": {},
   "outputs": [],
   "source": [
    "### Prepare non-linear system\n",
    "\n",
    "# non-linear dyamics\n",
    "prog = MathematicalProgram()\n",
    "x = prog.NewIndeterminates(4, \"x\")\n",
    "x1 = x[0]\n",
    "x2 = x[1]\n",
    "x3 = x[2]\n",
    "x4 = x[3]\n",
    "pi = np.pi\n",
    "r = [0, 0, pi, 0]  # reference\n",
    "f1 = x2\n",
    "f2 = (2233260595080309*x2)/1407374883553280 - (3253141686419969*x3)/87960930222080 - (1360884314958167*x4)/87960930222080 + (3253141686419969*pi)/87960930222080 + (10**(1/2)*x1)/5 - (2233260595080309*x2*(x3 - pi)**2)/7036874417766400 + (1360884314958167*x4*(x3 - pi)**2)/439804651110400 - (2*x4**2*(x3 - pi))/5 + (8000206454818307*(x3 - pi)**3)/1319413953331200 - (10**(1/2)*x1*(x3 - pi)**2)/25\n",
    "f3 = x4\n",
    "f4 = (2233260595080309*x2)/2814749767106560 - (2373532384199169*x3)/175921860444160 - (1360884314958167*x4)/175921860444160 + (2373532384199169*pi)/175921860444160 + (10**(1/2)*x1)/10 - (15632824165562163*x2*(x3 - pi)**2)/28147497671065600 + (9526190204707169*x4*(x3 - pi)**2)/1759218604441600 - (x4**2*(x3 - pi))/5 + (20133163898277383*(x3 - pi)**3)/1759218604441600 - (7*10**(1/2)*x1*(x3 - pi)**2)/100\n",
    " \n",
    "fn = [f1,f2,f3,f4]"
   ]
  },
  {
   "cell_type": "code",
   "execution_count": 4,
   "metadata": {},
   "outputs": [
    {
     "name": "stdout",
     "output_type": "stream",
     "text": [
      "Verified that ((x(0) * (25.089939332035222 * x(0) + 30.475252784260839 * x(1) - 92.573282170195171 * x(3) - 244.62531583054917 * (-3.1415926535897931 + x(2)))) + (x(1) * (30.475252784261009 * x(0) + 54.703273217802973 * x(1) - 198.74790108026389 * x(3) - 521.19015115668242 * (-3.1415926535897931 + x(2)))) + (x(3) * ( - 92.573282170197402 * x(0) - 198.74790108026656 * x(1) + 1171.0689735231294 * x(3) + 2991.5772572603487 * (-3.1415926535897931 + x(2)))) + ((-3.1415926535897931 + x(2)) * ( - 244.62531583055468 * x(0) - 521.1901511566889 * x(1) + 2991.5772572603469 * x(3) + 7654.5550571892891 * (-3.1415926535897931 + x(2))))) < 16 is in the region of attraction.\n"
     ]
    }
   ],
   "source": [
    "### Lyapunov analysis, fix V and find Lagrange multiplier.\n",
    "\n",
    "# cost-to-go of LQR as Lyapunov candidate\n",
    "V = (x-r).dot(S.dot(x-r)) \n",
    "Vdot = Jacobian([V], x).dot(fn)[0]\n",
    "\n",
    "# Define the Lagrange multiplier.\n",
    "lambda_ = prog.NewSosPolynomial(Variables(x), 4)[0].ToExpression()\n",
    "\n",
    "# Optimization setup\n",
    "rho = 16\n",
    "prog.AddSosConstraint(-Vdot + lambda_*(V-rho))\n",
    "eps = 1e-4\n",
    "prog.AddSosConstraint(V - eps * (x - r).dot(x - r))\n",
    "prog.AddSosConstraint(lambda_)\n",
    "\n",
    "result = Solve(prog)\n",
    "\n",
    "# Print result\n",
    "if (result.is_success()):\n",
    "    print(f\"Verified that {str(V)} < {rho} is in the region of attraction.\")\n",
    "    #print(Polynomial(result.GetSolution(lambda_)))\n",
    "else:\n",
    "    print(\"failed\")"
   ]
  },
  {
   "cell_type": "code",
   "execution_count": 14,
   "metadata": {},
   "outputs": [
    {
     "name": "stdout",
     "output_type": "stream",
     "text": [
      "5.0324276691641305\n"
     ]
    }
   ],
   "source": [
    "x1 = 0\n",
    "x2 = 0\n",
    "x3 = pi+0.01\n",
    "x4 = 0.04\n",
    "V =((x1* (25.089939332035222 * x1+ 30.475252784260839 * x2- 92.573282170195171 * x4- 244.62531583054917 * (-3.1415926535897931 + x3))) + (x2* (30.475252784261009 * x1+ 54.703273217802973 * x2- 198.74790108026389 * x4- 521.19015115668242 * (-3.1415926535897931 + x3))) + (x4* ( - 92.573282170197402 * x1- 198.74790108026656 * x2+ 1171.0689735231294 * x4+ 2991.5772572603487 * (-3.1415926535897931 + x3))) + ((-3.1415926535897931 + x3) * ( - 244.62531583055468 * x1- 521.1901511566889 * x2+ 2991.5772572603469 * x4+ 7654.5550571892891 * (-3.1415926535897931 + x3))))\n",
    "print(V)"
   ]
  },
  {
   "cell_type": "code",
   "execution_count": null,
   "metadata": {},
   "outputs": [],
   "source": []
  }
 ],
 "metadata": {
  "interpreter": {
   "hash": "31f2aee4e71d21fbe5cf8b01ff0e069b9275f58929596ceb00d14d90e3e16cd6"
  },
  "kernelspec": {
   "display_name": "Python 3.6.9 64-bit",
   "language": "python",
   "name": "python3"
  },
  "language_info": {
   "codemirror_mode": {
    "name": "ipython",
    "version": 3
   },
   "file_extension": ".py",
   "mimetype": "text/x-python",
   "name": "python",
   "nbconvert_exporter": "python",
   "pygments_lexer": "ipython3",
   "version": "3.6.9"
  }
 },
 "nbformat": 4,
 "nbformat_minor": 2
}
