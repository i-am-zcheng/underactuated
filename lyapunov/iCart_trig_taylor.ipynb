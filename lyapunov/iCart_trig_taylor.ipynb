{
 "cells": [
  {
   "cell_type": "code",
   "execution_count": 1,
   "metadata": {},
   "outputs": [],
   "source": [
    "import importlib\n",
    "import sys\n",
    "from urllib.request import urlretrieve\n",
    "\n",
    "# Imports.\n",
    "import numpy as np\n",
    "import meshcat\n",
    "from ipywidgets import interact, FloatSlider, ToggleButton\n",
    "from IPython.display import display\n",
    "\n",
    "import pydrake.all\n",
    "from pydrake.all import (AddMultibodyPlantSceneGraph, DiagramBuilder, PlanarSceneGraphVisualizer, SceneGraph, Simulator)\n",
    "from pydrake.systems.jupyter_widgets import WidgetSystem\n",
    "from pydrake.examples.pendulum import PendulumGeometry, PendulumPlant\n",
    "\n",
    "import underactuated\n",
    "from underactuated.jupyter import AdvanceToAndVisualize, SetupMatplotlibBackend, running_as_notebook\n",
    "import underactuated.meshcat_utils as mutil\n",
    "from pydrake.examples.pendulum import PendulumGeometry, PendulumPlant, PendulumInput\n",
    "from pydrake.all import Linearize, LinearQuadraticRegulator,VectorSystem\n",
    "import math\n",
    "from pydrake.all import Jacobian, MathematicalProgram, Solve, Variables, Polynomial\n",
    "import numpy as np"
   ]
  },
  {
   "cell_type": "code",
   "execution_count": 3,
   "metadata": {},
   "outputs": [],
   "source": [
    "### Prepare non-linear system\n",
    "\n",
    "# non-linear dyamics\n",
    "prog = MathematicalProgram()\n",
    "x = prog.NewIndeterminates(4, \"x\")\n",
    "x1 = x[0]\n",
    "x2 = x[1]\n",
    "x3 = x[2]\n",
    "x4 = x[3]\n",
    "\n",
    "r = [0, 0, pi, 0]  # reference\n",
    "f1 = x2\n",
    "f2 = (2233260595080309*x2)/1407374883553280 - (3253141686419969*x3)/87960930222080 - (1360884314958167*x4)/87960930222080 + (3253141686419969*pi)/87960930222080 + (10^(1/2)*x1)/5 - (2233260595080309*x2*(x3 - pi)^2)/7036874417766400 + (1360884314958167*x4*(x3 - pi)^2)/439804651110400 - (2*x4^2*(x3 - pi))/5 + (8000206454818307*(x3 - pi)^3)/1319413953331200 - (10^(1/2)*x1*(x3 - pi)^2)/25\n",
    "f3 = x4\n",
    "f4 = (2233260595080309*x2)/2814749767106560 - (2373532384199169*x3)/175921860444160 - (1360884314958167*x4)/175921860444160 + (2373532384199169*pi)/175921860444160 + (10^(1/2)*x1)/10 - (15632824165562163*x2*(x3 - pi)^2)/28147497671065600 + (9526190204707169*x4*(x3 - pi)^2)/1759218604441600 - (x4^2*(x3 - pi))/5 + (20133163898277383*(x3 - pi)^3)/1759218604441600 - (7*10^(1/2)*x1*(x3 - pi)^2)/100\n",
    " \n",
    "fn = [f1,f2,f3,f4]"
   ]
  },
  {
   "cell_type": "code",
   "execution_count": 4,
   "metadata": {},
   "outputs": [
    {
     "name": "stdout",
     "output_type": "stream",
     "text": [
      "Verified that ((x(1) * (0.60649156397967863 * x(1) + 2.6852527630200029 * (-3.1415926535897931 + x(0)))) + ((-3.1415926535897931 + x(0)) * (2.6852527630200025 * x(1) + 15.232066986722771 * (-3.1415926535897931 + x(0))))) < 22.0 is in the region of attraction.\n"
     ]
    }
   ],
   "source": [
    "### Lyapunov analysis, fix V and find Lagrange multiplier.\n",
    "\n",
    "# cost-to-go of LQR as Lyapunov candidate\n",
    "V = (1072252633462743*x1*x2)/35184372088832 - (3257132805361133*x1*x4)/35184372088832 - (2151747033632871*x1*(x3 - pi))/8796093022208 + (3531095044578367*x1^2)/140737488355328, (1072252633462743*x1*x2)/35184372088832 - (3496410051741759*x2*x4)/17592186044416 - (286527315739597*x2*(x3 - pi))/549755813888 + (3849400638744835*x2^2)/70368744177664, (3289273979748465*x4*(x3 - pi))/1099511627776 - (286527315739597*x2*(x3 - pi))/549755813888 - (2151747033632871*x1*(x3 - pi))/8796093022208 + (4208136145416213*(x3 - pi)^2)/549755813888, (3289273979748465*x4*(x3 - pi))/1099511627776 - (3496410051741759*x2*x4)/17592186044416 - (3257132805361133*x1*x4)/35184372088832 + (5150415813266293*x4^2)/4398046511104\n",
    "Vdot = Jacobian([V], x).dot(fn)[0]\n",
    "\n",
    "# Define the Lagrange multiplier.\n",
    "lambda_ = prog.NewSosPolynomial(Variables(x), 2)[0].ToExpression()\n",
    "\n",
    "# Optimization setup\n",
    "rho = 1.\n",
    "prog.AddSosConstraint(-Vdot + lambda_*(V-rho))\n",
    "prog.AddSosConstraint(V)\n",
    "prog.AddSosConstraint(lambda_)\n",
    "\n",
    "result = Solve(prog)\n",
    "\n",
    "# Print result\n",
    "if (result.is_success()):\n",
    "    print(f\"Verified that {str(V)} < {rho} is in the region of attraction.\")\n",
    "    #print(Polynomial(result.GetSolution(lambda_)))\n",
    "else:\n",
    "    print(\"failed\")"
   ]
  },
  {
   "cell_type": "code",
   "execution_count": 5,
   "metadata": {},
   "outputs": [
    {
     "name": "stdout",
     "output_type": "stream",
     "text": [
      "under IV x=[2.0943951023931953, 1], it is True in RoA\n"
     ]
    }
   ],
   "source": [
    "x0 = np.pi*2/3\n",
    "x1 = 1\n",
    "FV = ((x1* (0.60649156397967863 * x1+ 2.6852527630200029 * (-3.1415926535897931 + x0))) + ((-3.1415926535897931 + x0) * (2.6852527630200025 * x1+ 15.232066986722771 * (-3.1415926535897931 + x0)))) < 22.0\n",
    "print(f\"under IV x=[{x0}, {x1}], it is {FV} in RoA\")"
   ]
  },
  {
   "cell_type": "code",
   "execution_count": null,
   "metadata": {},
   "outputs": [],
   "source": []
  }
 ],
 "metadata": {
  "interpreter": {
   "hash": "31f2aee4e71d21fbe5cf8b01ff0e069b9275f58929596ceb00d14d90e3e16cd6"
  },
  "kernelspec": {
   "display_name": "Python 3.6.9 64-bit",
   "language": "python",
   "name": "python3"
  },
  "language_info": {
   "codemirror_mode": {
    "name": "ipython",
    "version": 3
   },
   "file_extension": ".py",
   "mimetype": "text/x-python",
   "name": "python",
   "nbconvert_exporter": "python",
   "pygments_lexer": "ipython3",
   "version": "3.6.9"
  }
 },
 "nbformat": 4,
 "nbformat_minor": 2
}
