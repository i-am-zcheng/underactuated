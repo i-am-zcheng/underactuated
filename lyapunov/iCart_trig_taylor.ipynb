{
 "cells": [
  {
   "cell_type": "code",
   "execution_count": 1,
   "metadata": {},
   "outputs": [],
   "source": [
    "import importlib\n",
    "import sys\n",
    "from urllib.request import urlretrieve\n",
    "\n",
    "# Imports.\n",
    "import numpy as np\n",
    "import meshcat\n",
    "from ipywidgets import interact, FloatSlider, ToggleButton\n",
    "from IPython.display import display\n",
    "\n",
    "import pydrake.all\n",
    "from pydrake.all import (AddMultibodyPlantSceneGraph, DiagramBuilder, PlanarSceneGraphVisualizer, SceneGraph, Simulator)\n",
    "from pydrake.systems.jupyter_widgets import WidgetSystem\n",
    "from pydrake.examples.pendulum import PendulumGeometry, PendulumPlant\n",
    "\n",
    "import underactuated\n",
    "from underactuated.jupyter import AdvanceToAndVisualize, SetupMatplotlibBackend, running_as_notebook\n",
    "import underactuated.meshcat_utils as mutil\n",
    "from pydrake.examples.pendulum import PendulumGeometry, PendulumPlant, PendulumInput\n",
    "from pydrake.all import Linearize, LinearQuadraticRegulator,VectorSystem\n",
    "import math\n",
    "from pydrake.all import Jacobian, MathematicalProgram, Solve, Variables, Polynomial\n",
    "import numpy as np"
   ]
  },
  {
   "cell_type": "code",
   "execution_count": null,
   "metadata": {},
   "outputs": [],
   "source": [
    "# LQR\n",
    "m = 1;\n",
    "M = 5;\n",
    "L = 2;\n",
    "g = -10;\n",
    "d = 1;\n",
    "b = 1;\n",
    "\n",
    "A = [0 1 0 0;\n",
    "    0 -d/M b*m*g/M 0;\n",
    "    0 0 0 1;\n",
    "    0 -b*d/(M*L) -b*(m+M)*g/(M*L) 0];\n",
    "B = [0; 1/M; 0; b*1/(M*L)];\n",
    "\n",
    "Q = [10 0 0 0;\n",
    "    0 1 0 0;\n",
    "    0 0 10 0;\n",
    "    0 0 0 1];\n",
    "R = 1;\n",
    "(K, S) = LinearQuadraticRegulator(A, B, Q, R)"
   ]
  },
  {
   "cell_type": "code",
   "execution_count": 2,
   "metadata": {},
   "outputs": [],
   "source": [
    "### Prepare non-linear system\n",
    "\n",
    "# non-linear dyamics\n",
    "prog = MathematicalProgram()\n",
    "x = prog.NewIndeterminates(4, \"x\")\n",
    "x1 = x[0]\n",
    "x2 = x[1]\n",
    "x3 = x[2]\n",
    "x4 = x[3]\n",
    "pi = np.pi\n",
    "r = [0, 0, pi, 0]  # reference\n",
    "f1 = x2\n",
    "f2 = (2233260595080309*x2)/1407374883553280 - (3253141686419969*x3)/87960930222080 - (1360884314958167*x4)/87960930222080 + (3253141686419969*pi)/87960930222080 + (10**(1/2)*x1)/5 - (2233260595080309*x2*(x3 - pi)**2)/7036874417766400 + (1360884314958167*x4*(x3 - pi)**2)/439804651110400 - (2*x4**2*(x3 - pi))/5 + (8000206454818307*(x3 - pi)**3)/1319413953331200 - (10**(1/2)*x1*(x3 - pi)**2)/25\n",
    "f3 = x4\n",
    "f4 = (2233260595080309*x2)/2814749767106560 - (2373532384199169*x3)/175921860444160 - (1360884314958167*x4)/175921860444160 + (2373532384199169*pi)/175921860444160 + (10**(1/2)*x1)/10 - (15632824165562163*x2*(x3 - pi)**2)/28147497671065600 + (9526190204707169*x4*(x3 - pi)**2)/1759218604441600 - (x4**2*(x3 - pi))/5 + (20133163898277383*(x3 - pi)**3)/1759218604441600 - (7*10**(1/2)*x1*(x3 - pi)**2)/100\n",
    " \n",
    "fn = [f1,f2,f3,f4]"
   ]
  },
  {
   "cell_type": "code",
   "execution_count": 3,
   "metadata": {},
   "outputs": [
    {
     "name": "stdout",
     "output_type": "stream",
     "text": [
      "failed\n"
     ]
    }
   ],
   "source": [
    "### Lyapunov analysis, fix V and find Lagrange multiplier.\n",
    "\n",
    "# cost-to-go of LQR as Lyapunov candidate\n",
    "S1 = np.array([ 25.0899393320365,30.4752527842636     ,    -244.625315830589\t, -92.5732821702108])\n",
    "S2 = np.array([30.4752527842636 ,54.7032732178086   ,      -521.190151156765\t,-198.747901080296])\n",
    "S3 = np.array([-244.625315830589   ,      -521.190151156765     ,      7654.5550571904,\t2991.57725726078])\n",
    "S4 = np.array([-92.5732821702108    ,     -198.747901080296      ,    2991.57725726078,\t1171.0689735233])\n",
    "S = np.array([S1,S2,S3,S4])\n",
    "V = (x-r).dot(S.dot(x-r)) \n",
    "Vdot = Jacobian([V], x).dot(fn)[0]\n",
    "\n",
    "# Define the Lagrange multiplier.\n",
    "lambda_ = prog.NewSosPolynomial(Variables(x), 4)[0].ToExpression()\n",
    "\n",
    "# Optimization setup\n",
    "rho = 12.\n",
    "prog.AddSosConstraint(-Vdot + lambda_*(V-rho))\n",
    "prog.AddSosConstraint(V)\n",
    "prog.AddSosConstraint(lambda_)\n",
    "\n",
    "result = Solve(prog)\n",
    "\n",
    "# Print result\n",
    "if (result.is_success()):\n",
    "    print(f\"Verified that {str(V)} < {rho} is in the region of attraction.\")\n",
    "    #print(Polynomial(result.GetSolution(lambda_)))\n",
    "else:\n",
    "    print(\"failed\")"
   ]
  },
  {
   "cell_type": "code",
   "execution_count": 4,
   "metadata": {},
   "outputs": [
    {
     "name": "stdout",
     "output_type": "stream",
     "text": [
      "0.0\n"
     ]
    }
   ],
   "source": [
    "x1 = 0\n",
    "x2 = 0\n",
    "x3 = pi\n",
    "x4 = 0\n",
    "V = (1072252633462743*x1*x2)/35184372088832 - (3257132805361133*x1*x4)/35184372088832 - (2151747033632871*x1*(x3 - pi))/8796093022208 + (3531095044578367*x1**2)/140737488355328 + (1072252633462743*x1*x2)/35184372088832 - (3496410051741759*x2*x4)/17592186044416 - (286527315739597*x2*(x3 - pi))/549755813888 + (3849400638744835*x2**2)/70368744177664 + (3289273979748465*x4*(x3 - pi))/1099511627776 - (286527315739597*x2*(x3 - pi))/549755813888 - (2151747033632871*x1*(x3 - pi))/8796093022208 + (4208136145416213*(x3 - pi)**2)/549755813888 + (3289273979748465*x4*(x3 - pi))/1099511627776 - (3496410051741759*x2*x4)/17592186044416 -(3257132805361133*x1*x4)/35184372088832 + (5150415813266293*x4**2)/4398046511104\n",
    "print(V)"
   ]
  },
  {
   "cell_type": "code",
   "execution_count": null,
   "metadata": {},
   "outputs": [],
   "source": []
  }
 ],
 "metadata": {
  "interpreter": {
   "hash": "31f2aee4e71d21fbe5cf8b01ff0e069b9275f58929596ceb00d14d90e3e16cd6"
  },
  "kernelspec": {
   "display_name": "Python 3.6.9 64-bit",
   "language": "python",
   "name": "python3"
  },
  "language_info": {
   "codemirror_mode": {
    "name": "ipython",
    "version": 3
   },
   "file_extension": ".py",
   "mimetype": "text/x-python",
   "name": "python",
   "nbconvert_exporter": "python",
   "pygments_lexer": "ipython3",
   "version": "3.6.9"
  }
 },
 "nbformat": 4,
 "nbformat_minor": 2
}
