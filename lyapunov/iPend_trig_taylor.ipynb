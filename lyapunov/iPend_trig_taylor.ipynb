{
 "cells": [
  {
   "cell_type": "code",
   "execution_count": 1,
   "metadata": {},
   "outputs": [],
   "source": [
    "import importlib\n",
    "import sys\n",
    "from urllib.request import urlretrieve\n",
    "\n",
    "# Imports.\n",
    "import numpy as np\n",
    "import meshcat\n",
    "from ipywidgets import interact, FloatSlider, ToggleButton\n",
    "from IPython.display import display\n",
    "\n",
    "import pydrake.all\n",
    "from pydrake.all import (AddMultibodyPlantSceneGraph, DiagramBuilder, PlanarSceneGraphVisualizer, SceneGraph, Simulator)\n",
    "from pydrake.systems.jupyter_widgets import WidgetSystem\n",
    "from pydrake.examples.pendulum import PendulumGeometry, PendulumPlant\n",
    "\n",
    "import underactuated\n",
    "from underactuated.jupyter import AdvanceToAndVisualize, SetupMatplotlibBackend, running_as_notebook\n",
    "import underactuated.meshcat_utils as mutil\n",
    "from pydrake.examples.pendulum import PendulumGeometry, PendulumPlant, PendulumInput\n",
    "from pydrake.all import Linearize, LinearQuadraticRegulator,VectorSystem\n",
    "import math\n",
    "from pydrake.all import Jacobian, MathematicalProgram, Solve, Variables, Polynomial\n",
    "import numpy as np"
   ]
  },
  {
   "cell_type": "code",
   "execution_count": 2,
   "metadata": {},
   "outputs": [],
   "source": [
    "### LQR\n",
    "\n",
    "# Prepare\n",
    "builder = DiagramBuilder()\n",
    "pendulum = builder.AddSystem(PendulumPlant())\n",
    "context = pendulum.CreateDefaultContext()\n",
    "pendulum.get_input_port(0).FixValue(context, [0])\n",
    "context.SetContinuousState([np.pi, 0])\n",
    "\n",
    "# linearize the system at [pi, 0]\n",
    "linearized_pendulum = Linearize(pendulum, context)\n",
    "\n",
    "# LQR\n",
    "Q = np.diag((10., 1.))\n",
    "R = [1.]\n",
    "(K, S) = LinearQuadraticRegulator(linearized_pendulum.A(), linearized_pendulum.B(), Q, R)"
   ]
  },
  {
   "cell_type": "code",
   "execution_count": 3,
   "metadata": {},
   "outputs": [],
   "source": [
    "### Prepare non-linear system\n",
    "\n",
    "# constants\n",
    "pi = np.pi\n",
    "g = 9.81\n",
    "m = 1.\n",
    "l = 0.5\n",
    "d = 0.1\n",
    "\n",
    "# non-linear dyamics\n",
    "prog = MathematicalProgram()\n",
    "x = prog.NewIndeterminates(2, \"x\")\n",
    "x1 = x[0]\n",
    "x2 = x[1]\n",
    "Tsin = -(x1-pi) + (x1-pi)**3/6  # 3rd order taylor expansion of sin(x) around pi\n",
    "r = [pi, 0]  # reference\n",
    "u = -K.dot(x)[0] # control input\n",
    "u2 = -K.dot(x-r)[0] # control input with reference\n",
    "fn = [x2, (u2-d*x2-Tsin*m*g*l)/(m*l*l)]"
   ]
  },
  {
   "cell_type": "code",
   "execution_count": 4,
   "metadata": {},
   "outputs": [
    {
     "name": "stdout",
     "output_type": "stream",
     "text": [
      "Verified that ((x(1) * (0.60649156397967863 * x(1) + 2.6852527630200029 * (-3.1415926535897931 + x(0)))) + ((-3.1415926535897931 + x(0)) * (2.6852527630200025 * x(1) + 15.232066986722771 * (-3.1415926535897931 + x(0))))) < 22.0 is in the region of attraction.\n"
     ]
    }
   ],
   "source": [
    "### Lyapunov analysis, fix V and find Lagrange multiplier.\n",
    "\n",
    "# cost-to-go of LQR as Lyapunov candidate\n",
    "V = (x-r).dot(S.dot(x-r)) \n",
    "Vdot = Jacobian([V], x).dot(fn)[0]\n",
    "\n",
    "# Define the Lagrange multiplier.\n",
    "lambda_ = prog.NewSosPolynomial(Variables(x), 2)[0].ToExpression()\n",
    "\n",
    "# Optimization setup\n",
    "rho = 22.\n",
    "prog.AddSosConstraint(-Vdot + lambda_*(V-rho))\n",
    "prog.AddSosConstraint(V)\n",
    "prog.AddSosConstraint(lambda_)\n",
    "\n",
    "result = Solve(prog)\n",
    "\n",
    "# Print result\n",
    "if (result.is_success()):\n",
    "    print(f\"Verified that {str(V)} < {rho} is in the region of attraction.\")\n",
    "    #print(Polynomial(result.GetSolution(lambda_)))\n",
    "else:\n",
    "    print(\"failed\")"
   ]
  },
  {
   "cell_type": "code",
   "execution_count": 5,
   "metadata": {},
   "outputs": [
    {
     "name": "stdout",
     "output_type": "stream",
     "text": [
      "under IV x=[2.0943951023931953, 1], it is True in RoA\n"
     ]
    }
   ],
   "source": [
    "x0 = np.pi*2/3\n",
    "x1 = 1\n",
    "FV = ((x1* (0.60649156397967863 * x1+ 2.6852527630200029 * (-3.1415926535897931 + x0))) + ((-3.1415926535897931 + x0) * (2.6852527630200025 * x1+ 15.232066986722771 * (-3.1415926535897931 + x0)))) < 22.0\n",
    "print(f\"under IV x=[{x0}, {x1}], it is {FV} in RoA\")"
   ]
  },
  {
   "cell_type": "code",
   "execution_count": null,
   "metadata": {},
   "outputs": [],
   "source": []
  }
 ],
 "metadata": {
  "interpreter": {
   "hash": "31f2aee4e71d21fbe5cf8b01ff0e069b9275f58929596ceb00d14d90e3e16cd6"
  },
  "kernelspec": {
   "display_name": "Python 3.6.9 64-bit",
   "language": "python",
   "name": "python3"
  },
  "language_info": {
   "codemirror_mode": {
    "name": "ipython",
    "version": 3
   },
   "file_extension": ".py",
   "mimetype": "text/x-python",
   "name": "python",
   "nbconvert_exporter": "python",
   "pygments_lexer": "ipython3",
   "version": "3.6.9"
  }
 },
 "nbformat": 4,
 "nbformat_minor": 2
}
